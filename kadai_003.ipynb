{
  "nbformat": 4,
  "nbformat_minor": 0,
  "metadata": {
    "colab": {
      "provenance": []
    },
    "kernelspec": {
      "name": "python3",
      "display_name": "Python 3"
    },
    "language_info": {
      "name": "python"
    }
  },
  "cells": [
    {
      "cell_type": "code",
      "execution_count": null,
      "metadata": {
        "colab": {
          "base_uri": "https://localhost:8080/"
        },
        "id": "gnrUpADQOeXA",
        "outputId": "074dea59-3d53-45fe-b0e5-ca19704afa4c"
      },
      "outputs": [
        {
          "output_type": "stream",
          "name": "stdout",
          "text": [
            "[[ 4  5  6  7]\n",
            " [12 17 22 27]\n",
            " [20 29 38 47]]\n"
          ]
        },
        {
          "output_type": "execute_result",
          "data": {
            "text/plain": [
              "47"
            ]
          },
          "metadata": {},
          "execution_count": 7
        }
      ],
      "source": [
        "# numpyの読み込み\n",
        "import numpy as np\n",
        "\n",
        "#AとBの行列を定義\n",
        "arrayA = np.array([[0, 1, ], [2, 3,], [4, 5]])\n",
        "arrayB = np.array([[0, 1, 2, 3], [4, 5, 6, 7]])\n",
        "\n",
        "#計算結果の表示\n",
        "seki = np.dot(arrayA,arrayB)\n",
        "print(seki)\n",
        "\n",
        "#行列の最大値を求める\n",
        "seki.max()"
      ]
    }
  ]
}